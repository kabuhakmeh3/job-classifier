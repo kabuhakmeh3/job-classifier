{
 "cells": [
  {
   "cell_type": "markdown",
   "metadata": {},
   "source": [
    "# Classifying Jobs by Title using Natural Language Processing\n",
    "\n",
    "Understanding the availability of jobs is important in determining which positions to feature in ads, who to target, where to target them, and which platforms to target them on.\n",
    "\n",
    "As discussed in the Job Listing EDA notebook, labeling jobs by role or company can be error prone. Instead, learning patterns which are common in a certain type of job and applying a label automatically may be helpful. Especially when dealing with over 10M jobs each day. \n",
    "\n",
    "Here, we look at basic NLP approaches to classify jobs by title. For simplicity, we only consider whether a job is a skilled position (nurses, engineers, consultants) or a gig-role (drivers, cashiers, shoppers).\n",
    "\n",
    "We are primarily interested in identifying and isolating gig-jobs. These roles are more suitable for advertising through social media platforms and tend to have high click rates.\n",
    "\n",
    "More complex approaches are certainly interesting. But this first approach demonstrates the power of even the simplest models."
   ]
  },
  {
   "cell_type": "code",
   "execution_count": 2,
   "metadata": {
    "collapsed": true
   },
   "outputs": [],
   "source": [
    "import os, pickle\n",
    "import numpy as np\n",
    "import pandas as pd\n",
    "import matplotlib.pyplot as plt\n",
    "%matplotlib inline"
   ]
  },
  {
   "cell_type": "markdown",
   "metadata": {},
   "source": [
    "## Labelling Training Data\n",
    "\n",
    "While it is certainly possible to look at clustering methods to separate jobs by type, since we only care about two classes, it is much easier to manually label a subset of the data and begin training a simple model. If this proves useful, we can then direct our attention to more involved methods.\n",
    "\n",
    "For the time being, we labelled 1000 job samples from one feed. The production model will sample each feed daily to prepare a small subset of data which can be re-labeled and fed back to the model to re-train it as more data becomes available.\n",
    "\n",
    "Considerations for the future:\n",
    "\n",
    "+ Larger sample size\n",
    "+ Ensure a representative sample (stratified samples, ensure gigs in one partner feed are represented)"
   ]
  },
  {
   "cell_type": "code",
   "execution_count": 3,
   "metadata": {},
   "outputs": [
    {
     "data": {
      "text/plain": [
       "Index(['title', 'city', 'state', 'zip', 'country', 'posted_at',\n",
       "       'job_reference', 'company', 'category', 'body', 'gig'],\n",
       "      dtype='object')"
      ]
     },
     "execution_count": 3,
     "metadata": {},
     "output_type": "execute_result"
    }
   ],
   "source": [
    "data = pd.read_csv('../data/labeled_eda_sample_data_file.csv')\n",
    "data.columns"
   ]
  },
  {
   "cell_type": "code",
   "execution_count": 3,
   "metadata": {},
   "outputs": [
    {
     "data": {
      "text/plain": [
       "0    793\n",
       "1    207\n",
       "Name: gig, dtype: int64"
      ]
     },
     "execution_count": 3,
     "metadata": {},
     "output_type": "execute_result"
    }
   ],
   "source": [
    "data.gig.value_counts()"
   ]
  },
  {
   "cell_type": "code",
   "execution_count": 4,
   "metadata": {},
   "outputs": [
    {
     "data": {
      "text/html": [
       "<div>\n",
       "<style scoped>\n",
       "    .dataframe tbody tr th:only-of-type {\n",
       "        vertical-align: middle;\n",
       "    }\n",
       "\n",
       "    .dataframe tbody tr th {\n",
       "        vertical-align: top;\n",
       "    }\n",
       "\n",
       "    .dataframe thead th {\n",
       "        text-align: right;\n",
       "    }\n",
       "</style>\n",
       "<table border=\"1\" class=\"dataframe\">\n",
       "  <thead>\n",
       "    <tr style=\"text-align: right;\">\n",
       "      <th></th>\n",
       "      <th>title</th>\n",
       "      <th>gig</th>\n",
       "    </tr>\n",
       "  </thead>\n",
       "  <tbody>\n",
       "    <tr>\n",
       "      <th>0</th>\n",
       "      <td>Retail Store Manager - Alabaster AL</td>\n",
       "      <td>0</td>\n",
       "    </tr>\n",
       "    <tr>\n",
       "      <th>1</th>\n",
       "      <td>Financial Relationship Consultant - Pell City</td>\n",
       "      <td>0</td>\n",
       "    </tr>\n",
       "    <tr>\n",
       "      <th>2</th>\n",
       "      <td>Prod Cook 3 PM Bob's Steak &amp; Chop</td>\n",
       "      <td>1</td>\n",
       "    </tr>\n",
       "    <tr>\n",
       "      <th>3</th>\n",
       "      <td>Quant Developer</td>\n",
       "      <td>0</td>\n",
       "    </tr>\n",
       "    <tr>\n",
       "      <th>4</th>\n",
       "      <td>Human Resource Manager</td>\n",
       "      <td>0</td>\n",
       "    </tr>\n",
       "  </tbody>\n",
       "</table>\n",
       "</div>"
      ],
      "text/plain": [
       "                                           title  gig\n",
       "0            Retail Store Manager - Alabaster AL    0\n",
       "1  Financial Relationship Consultant - Pell City    0\n",
       "2              Prod Cook 3 PM Bob's Steak & Chop    1\n",
       "3                                Quant Developer    0\n",
       "4                         Human Resource Manager    0"
      ]
     },
     "execution_count": 4,
     "metadata": {},
     "output_type": "execute_result"
    }
   ],
   "source": [
    "cols_to_train = ['title', 'gig'] \n",
    "data = data[cols_to_train]\n",
    "data.head()"
   ]
  },
  {
   "cell_type": "markdown",
   "metadata": {},
   "source": [
    "** Cleanup text **"
   ]
  },
  {
   "cell_type": "code",
   "execution_count": 5,
   "metadata": {
    "collapsed": true
   },
   "outputs": [],
   "source": [
    "def standardize_text(df, text_field):\n",
    "    '''Clean-up text column to prepare for tokenization\n",
    "    \n",
    "    Removes unwanted characters &\n",
    "    Replaces them with spaces or blanks\n",
    "    --\n",
    "    Input\n",
    "    + pandas dataframe\n",
    "    + name of text column\n",
    "    \n",
    "    Returns\n",
    "    + pandas dataframe with cleaned column\n",
    "    '''\n",
    "    df[text_field] = df[text_field].str.replace(r\"http\\S+\", \"\")\n",
    "    df[text_field] = df[text_field].str.replace(r\"http\", \"\")\n",
    "    df[text_field] = df[text_field].str.replace(r\"@\\S+\", \"\")\n",
    "    df[text_field] = df[text_field].str.replace(r\"[^A-Za-z0-9(),!?@\\'\\`\\\"\\_\\n]\", \" \")\n",
    "    df[text_field] = df[text_field].str.replace(r\"@\", \"at\")\n",
    "    df[text_field] = df[text_field].str.lower()\n",
    "    return df"
   ]
  },
  {
   "cell_type": "code",
   "execution_count": 6,
   "metadata": {
    "scrolled": true
   },
   "outputs": [
    {
     "data": {
      "text/html": [
       "<div>\n",
       "<style scoped>\n",
       "    .dataframe tbody tr th:only-of-type {\n",
       "        vertical-align: middle;\n",
       "    }\n",
       "\n",
       "    .dataframe tbody tr th {\n",
       "        vertical-align: top;\n",
       "    }\n",
       "\n",
       "    .dataframe thead th {\n",
       "        text-align: right;\n",
       "    }\n",
       "</style>\n",
       "<table border=\"1\" class=\"dataframe\">\n",
       "  <thead>\n",
       "    <tr style=\"text-align: right;\">\n",
       "      <th></th>\n",
       "      <th>job_title</th>\n",
       "      <th>class_label</th>\n",
       "    </tr>\n",
       "  </thead>\n",
       "  <tbody>\n",
       "    <tr>\n",
       "      <th>0</th>\n",
       "      <td>retail store manager   alabaster al</td>\n",
       "      <td>0</td>\n",
       "    </tr>\n",
       "    <tr>\n",
       "      <th>1</th>\n",
       "      <td>financial relationship consultant   pell city</td>\n",
       "      <td>0</td>\n",
       "    </tr>\n",
       "    <tr>\n",
       "      <th>2</th>\n",
       "      <td>prod cook 3 pm bob's steak   chop</td>\n",
       "      <td>1</td>\n",
       "    </tr>\n",
       "    <tr>\n",
       "      <th>3</th>\n",
       "      <td>quant developer</td>\n",
       "      <td>0</td>\n",
       "    </tr>\n",
       "    <tr>\n",
       "      <th>4</th>\n",
       "      <td>human resource manager</td>\n",
       "      <td>0</td>\n",
       "    </tr>\n",
       "  </tbody>\n",
       "</table>\n",
       "</div>"
      ],
      "text/plain": [
       "                                       job_title  class_label\n",
       "0            retail store manager   alabaster al            0\n",
       "1  financial relationship consultant   pell city            0\n",
       "2              prod cook 3 pm bob's steak   chop            1\n",
       "3                                quant developer            0\n",
       "4                         human resource manager            0"
      ]
     },
     "execution_count": 6,
     "metadata": {},
     "output_type": "execute_result"
    }
   ],
   "source": [
    "text_cols = ['title']\n",
    "\n",
    "for col in text_cols:\n",
    "    data = standardize_text(data, col)\n",
    "\n",
    "col_names = {'title':'job_title',\n",
    "             'gig':'class_label'}    \n",
    "\n",
    "data = data.rename(columns=col_names)\n",
    "\n",
    "data.to_csv('../data/cleaned_labeled_data.csv')\n",
    "data.head()"
   ]
  },
  {
   "cell_type": "markdown",
   "metadata": {},
   "source": [
    "## Preprocessing"
   ]
  },
  {
   "cell_type": "code",
   "execution_count": 8,
   "metadata": {},
   "outputs": [],
   "source": [
    "import keras\n",
    "import nltk\n",
    "import re\n",
    "import codecs"
   ]
  },
  {
   "cell_type": "code",
   "execution_count": 9,
   "metadata": {
    "collapsed": true
   },
   "outputs": [],
   "source": [
    "from nltk.tokenize import RegexpTokenizer"
   ]
  },
  {
   "cell_type": "code",
   "execution_count": 10,
   "metadata": {},
   "outputs": [
    {
     "data": {
      "text/html": [
       "<div>\n",
       "<style scoped>\n",
       "    .dataframe tbody tr th:only-of-type {\n",
       "        vertical-align: middle;\n",
       "    }\n",
       "\n",
       "    .dataframe tbody tr th {\n",
       "        vertical-align: top;\n",
       "    }\n",
       "\n",
       "    .dataframe thead th {\n",
       "        text-align: right;\n",
       "    }\n",
       "</style>\n",
       "<table border=\"1\" class=\"dataframe\">\n",
       "  <thead>\n",
       "    <tr style=\"text-align: right;\">\n",
       "      <th></th>\n",
       "      <th>job_title</th>\n",
       "      <th>class_label</th>\n",
       "      <th>tokens</th>\n",
       "    </tr>\n",
       "  </thead>\n",
       "  <tbody>\n",
       "    <tr>\n",
       "      <th>0</th>\n",
       "      <td>retail store manager   alabaster al</td>\n",
       "      <td>0</td>\n",
       "      <td>[retail, store, manager, alabaster, al]</td>\n",
       "    </tr>\n",
       "    <tr>\n",
       "      <th>1</th>\n",
       "      <td>financial relationship consultant   pell city</td>\n",
       "      <td>0</td>\n",
       "      <td>[financial, relationship, consultant, pell, city]</td>\n",
       "    </tr>\n",
       "    <tr>\n",
       "      <th>2</th>\n",
       "      <td>prod cook 3 pm bob's steak   chop</td>\n",
       "      <td>1</td>\n",
       "      <td>[prod, cook, 3, pm, bob, s, steak, chop]</td>\n",
       "    </tr>\n",
       "    <tr>\n",
       "      <th>3</th>\n",
       "      <td>quant developer</td>\n",
       "      <td>0</td>\n",
       "      <td>[quant, developer]</td>\n",
       "    </tr>\n",
       "    <tr>\n",
       "      <th>4</th>\n",
       "      <td>human resource manager</td>\n",
       "      <td>0</td>\n",
       "      <td>[human, resource, manager]</td>\n",
       "    </tr>\n",
       "  </tbody>\n",
       "</table>\n",
       "</div>"
      ],
      "text/plain": [
       "                                       job_title  class_label  \\\n",
       "0            retail store manager   alabaster al            0   \n",
       "1  financial relationship consultant   pell city            0   \n",
       "2              prod cook 3 pm bob's steak   chop            1   \n",
       "3                                quant developer            0   \n",
       "4                         human resource manager            0   \n",
       "\n",
       "                                              tokens  \n",
       "0            [retail, store, manager, alabaster, al]  \n",
       "1  [financial, relationship, consultant, pell, city]  \n",
       "2           [prod, cook, 3, pm, bob, s, steak, chop]  \n",
       "3                                 [quant, developer]  \n",
       "4                         [human, resource, manager]  "
      ]
     },
     "execution_count": 10,
     "metadata": {},
     "output_type": "execute_result"
    }
   ],
   "source": [
    "tokenizer = RegexpTokenizer(r'\\w+')\n",
    "\n",
    "data['tokens'] = data['job_title'].apply(tokenizer.tokenize)\n",
    "data.head()"
   ]
  },
  {
   "cell_type": "code",
   "execution_count": 11,
   "metadata": {},
   "outputs": [
    {
     "name": "stdout",
     "output_type": "stream",
     "text": [
      "4591 words total, with a vocabulary size of 1594\n",
      "Max title length is 23\n"
     ]
    }
   ],
   "source": [
    "all_words = [word for tokens in data[\"tokens\"] for word in tokens]\n",
    "title_lengths = [len(tokens) for tokens in data[\"tokens\"]]\n",
    "VOCAB = sorted(list(set(all_words)))\n",
    "print(\"%s words total, with a vocabulary size of %s\" % (len(all_words), len(VOCAB)))\n",
    "print(\"Max title length is %s\" % max(title_lengths))"
   ]
  },
  {
   "cell_type": "code",
   "execution_count": 13,
   "metadata": {},
   "outputs": [
    {
     "data": {
      "image/png": "[encoded data removed]",
      "text/plain": [
       "<matplotlib.figure.Figure at 0x125fd3908>"
      ]
     },
     "metadata": {},
     "output_type": "display_data"
    }
   ],
   "source": [
    "fig = plt.figure(figsize=(5, 5)) \n",
    "plt.xlabel('Job Title Length')\n",
    "plt.ylabel('Number of Jobs')\n",
    "plt.hist(title_lengths)\n",
    "plt.show()"
   ]
  },
  {
   "cell_type": "markdown",
   "metadata": {},
   "source": [
    "## Vectorize the tokens\n",
    "\n",
    "We have several options when representing the tokenized words mathematically:\n",
    "\n",
    "+ Bag of words -- count how many times a word appears \n",
    "+ tf-idf (term frequency-inverse document frequency) - assign weight by relevance of word, not frequency\n",
    "\n",
    "### Processing tools\n",
    "\n",
    "Convert data and target to list format for later use.\n",
    "\n",
    "Define a function to create document-term matrix and fit a vectorizer model. Allow for multiple vectorizer options."
   ]
  },
  {
   "cell_type": "code",
   "execution_count": 10,
   "metadata": {
    "collapsed": true
   },
   "outputs": [],
   "source": [
    "from sklearn.model_selection import train_test_split\n",
    "from sklearn.feature_extraction.text import CountVectorizer, TfidfVectorizer\n",
    "\n",
    "# create lists of X and y for later use\n",
    "list_corpus = data['job_title'].tolist()\n",
    "list_labels = data['class_label'].tolist()\n",
    "\n",
    "def fit_vectorizer(data, vec_type='count'):\n",
    "    '''Create and fit a vectorizer\n",
    "    \n",
    "    Options:\n",
    "    + count -> count_vectorizer \n",
    "    + tfidf -> tfidf_vectorizer\n",
    "    \n",
    "    Input:\n",
    "    + data - X data to fit the model\n",
    "    + vec_type - name of vectorizer to use\n",
    "    \n",
    "    Returns:\n",
    "    + Document-term matrix or Tf-idf-weighted document-term matrix\n",
    "    + vectorizer - fitted model\n",
    "    '''\n",
    "    if vec_type=='count':\n",
    "        vectorizer = CountVectorizer()\n",
    "    elif vec_type=='tfidf':\n",
    "        vectorizer = TfidfVectorizer()\n",
    "    else:\n",
    "        print('Please select an appropriate option')\n",
    "    \n",
    "    emb = vectorizer.fit_transform(data)\n",
    "\n",
    "    return emb, vectorizer"
   ]
  },
  {
   "cell_type": "markdown",
   "metadata": {},
   "source": [
    "### Evaluation & Vizualization tools\n",
    "\n",
    "Some functions to help assess model performance."
   ]
  },
  {
   "cell_type": "code",
   "execution_count": 11,
   "metadata": {
    "collapsed": true
   },
   "outputs": [],
   "source": [
    "from sklearn.metrics import accuracy_score, f1_score, precision_score, recall_score, classification_report, confusion_matrix\n",
    "\n",
    "def get_metrics(y_test, y_predicted):  \n",
    "    # true positives / (true positives+false positives)\n",
    "    precision = precision_score(y_test, y_predicted, pos_label=None,\n",
    "                                    average='weighted')             \n",
    "    # true positives / (true positives + false negatives)\n",
    "    recall = recall_score(y_test, y_predicted, pos_label=None,\n",
    "                              average='weighted')\n",
    "    \n",
    "    # harmonic mean of precision and recall\n",
    "    f1 = f1_score(y_test, y_predicted, pos_label=None, average='weighted')\n",
    "    \n",
    "    # true positives + true negatives/ total\n",
    "    accuracy = accuracy_score(y_test, y_predicted)\n",
    "    return accuracy, precision, recall, f1\n",
    "\n",
    "def get_most_important_features(vectorizer, model, n=5):\n",
    "    index_to_word = {v:k for k,v in vectorizer.vocabulary_.items()}\n",
    "    \n",
    "    # loop for each class\n",
    "    classes ={}\n",
    "    for class_index in range(model.coef_.shape[0]):\n",
    "        word_importances = [(el, index_to_word[i]) for i,el in enumerate(model.coef_[class_index])]\n",
    "        sorted_coeff = sorted(word_importances, key = lambda x : x[0], reverse=True)\n",
    "        tops = sorted(sorted_coeff[:n], key = lambda x : x[0])\n",
    "        bottom = sorted_coeff[-n:]\n",
    "        classes[class_index] = {\n",
    "            'tops':tops,\n",
    "            'bottom':bottom\n",
    "        }\n",
    "    return classes\n",
    "\n",
    "def plot_important_words(top_scores, top_words, bottom_scores, bottom_words, name, save_png=False):\n",
    "    y_pos = np.arange(len(top_words))\n",
    "    top_pairs = [(a,b) for a,b in zip(top_words, top_scores)]\n",
    "    top_pairs = sorted(top_pairs, key=lambda x: x[1])\n",
    "    \n",
    "    bottom_pairs = [(a,b) for a,b in zip(bottom_words, bottom_scores)]\n",
    "    bottom_pairs = sorted(bottom_pairs, key=lambda x: x[1], reverse=True)\n",
    "    \n",
    "    top_words = [a[0] for a in top_pairs]\n",
    "    top_scores = [a[1] for a in top_pairs]\n",
    "    \n",
    "    bottom_words = [a[0] for a in bottom_pairs]\n",
    "    bottom_scores = [a[1] for a in bottom_pairs]\n",
    "    \n",
    "    fig = plt.figure(figsize=(10, 10))  \n",
    "\n",
    "    plt.subplot(121)\n",
    "    plt.barh(y_pos,bottom_scores, align='center', alpha=0.5, color='r')\n",
    "    plt.title('Skilled Position', fontsize=20)\n",
    "    plt.yticks(y_pos, bottom_words, fontsize=14)\n",
    "    plt.suptitle('Key words', fontsize=16)\n",
    "    plt.xlabel('Importance', fontsize=20)\n",
    "    \n",
    "    plt.subplot(122)\n",
    "    plt.barh(y_pos,top_scores, align='center', alpha=0.5, color='b')\n",
    "    plt.title('Gig Job', fontsize=20)\n",
    "    plt.yticks(y_pos, top_words, fontsize=14)\n",
    "    plt.suptitle(name, fontsize=16)\n",
    "    plt.xlabel('Importance', fontsize=20)\n",
    "    \n",
    "    plt.subplots_adjust(wspace=0.8)\n",
    "    if save_png:\n",
    "        plt.savefig('../images/important_words.png')\n",
    "    else:\n",
    "        plt.show()"
   ]
  },
  {
   "cell_type": "code",
   "execution_count": 12,
   "metadata": {
    "collapsed": true
   },
   "outputs": [],
   "source": [
    "from sklearn.model_selection import StratifiedKFold\n",
    "from sklearn.model_selection import KFold\n",
    "from sklearn.linear_model import LogisticRegression"
   ]
  },
  {
   "cell_type": "markdown",
   "metadata": {},
   "source": [
    "### Bag of Words"
   ]
  },
  {
   "cell_type": "code",
   "execution_count": 13,
   "metadata": {},
   "outputs": [
    {
     "name": "stdout",
     "output_type": "stream",
     "text": [
      "CURRENT SPLIT: 1\n",
      "accuracy = 0.911, precision = 0.910, recall = 0.911, f1 = 0.910\n",
      "CURRENT SPLIT: 2\n",
      "accuracy = 0.931, precision = 0.932, recall = 0.931, f1 = 0.931\n",
      "CURRENT SPLIT: 3\n",
      "accuracy = 0.851, precision = 0.849, recall = 0.851, f1 = 0.850\n",
      "CURRENT SPLIT: 4\n",
      "accuracy = 0.910, precision = 0.916, recall = 0.910, f1 = 0.912\n",
      "CURRENT SPLIT: 5\n",
      "accuracy = 0.940, precision = 0.940, recall = 0.940, f1 = 0.940\n",
      "CURRENT SPLIT: 6\n",
      "accuracy = 0.900, precision = 0.897, recall = 0.900, f1 = 0.898\n",
      "CURRENT SPLIT: 7\n",
      "accuracy = 0.920, precision = 0.924, recall = 0.920, f1 = 0.921\n",
      "CURRENT SPLIT: 8\n",
      "accuracy = 0.899, precision = 0.933, recall = 0.899, f1 = 0.906\n",
      "CURRENT SPLIT: 9\n",
      "accuracy = 0.909, precision = 0.911, recall = 0.909, f1 = 0.910\n",
      "CURRENT SPLIT: 10\n",
      "accuracy = 0.869, precision = 0.884, recall = 0.869, f1 = 0.874\n",
      "\n",
      "Classification Report\n",
      "             precision    recall  f1-score   support\n",
      "\n",
      "Regular Job       0.95      0.89      0.92        79\n",
      "        Gig       0.64      0.80      0.71        20\n",
      "\n",
      "avg / total       0.88      0.87      0.87        99\n",
      "\n",
      "\n",
      "Confusion Matrix\n",
      "[[70  9]\n",
      " [ 4 16]]\n",
      "\n",
      "Final Perfomance\n",
      "Accuracy: mean 0.904, variance 0.001\n",
      "Precision: mean 0.910, variance 0.001\n",
      "Recall: mean 0.904, variance 0.001\n"
     ]
    }
   ],
   "source": [
    "## run a 10-fold stratified cross validation\n",
    "\n",
    "skf = StratifiedKFold(n_splits=10, random_state=0)\n",
    "\n",
    "X = data['job_title']\n",
    "y = data['class_label']\n",
    "\n",
    "current_split = 1\n",
    "acc_list = []; prec_list = []; rec_list = []\n",
    "for train_index, test_index in skf.split(X, y):\n",
    "    print('CURRENT SPLIT:', current_split)\n",
    "    \n",
    "    # get splits & assign data\n",
    "    X_train, X_test = X[train_index], X[test_index]\n",
    "    y_train, y_test = y[train_index], y[test_index]\n",
    "    \n",
    "    # vectorize word counts\n",
    "    X_train_counts, count_vectorizer = fit_vectorizer(X_train, vec_type='count')\n",
    "    X_test_counts = count_vectorizer.transform(X_test)\n",
    "    \n",
    "    # train & test logsitic regression model\n",
    "    clf = LogisticRegression(C=30.0, class_weight='balanced', solver='newton-cg', \n",
    "                         multi_class='ovr', n_jobs=-1, random_state=40)\n",
    "    clf.fit(X_train_counts, y_train)\n",
    "    y_predicted = clf.predict(X_test_counts)\n",
    "    # check performance\n",
    "    accuracy, precision, recall, f1 = get_metrics(y_test, y_predicted)\n",
    "    print(\"accuracy = %.3f, precision = %.3f, recall = %.3f, f1 = %.3f\" % (accuracy, precision, recall, f1))\n",
    "    \n",
    "    # add metrics to list\n",
    "    acc_list.append(accuracy)\n",
    "    prec_list.append(precision)\n",
    "    rec_list.append(recall)\n",
    "    current_split += 1\n",
    "\n",
    "# Sample classification report\n",
    "cr = classification_report(y_test, y_predicted, labels=[0,1], target_names=['Regular Job', 'Gig'])\n",
    "cm = confusion_matrix(y_test, y_predicted)\n",
    "\n",
    "print('\\nClassification Report')\n",
    "print(cr)\n",
    "print('\\nConfusion Matrix')\n",
    "print(cm)\n",
    "    \n",
    "# Summarize\n",
    "print('\\nFinal Perfomance')\n",
    "print('Accuracy: mean %.3f, variance %.3f' % (np.mean(acc_list), np.var(acc_list)))\n",
    "print('Precision: mean %.3f, variance %.3f' % (np.mean(prec_list), np.var(prec_list)))\n",
    "print('Recall: mean %.3f, variance %.3f'% (np.mean(rec_list), np.var(rec_list)))"
   ]
  },
  {
   "cell_type": "markdown",
   "metadata": {},
   "source": [
    "This is promising so far. But it would help to have a better understanding of how the model is making its decisions. We can take a look at what the most important words are for determining whether a job is labeled as a gig-role and which words are less associated with it"
   ]
  },
  {
   "cell_type": "code",
   "execution_count": 14,
   "metadata": {},
   "outputs": [
    {
     "data": {
      "image/png": "[encoded data removed]",
      "text/plain": [
       "<matplotlib.figure.Figure at 0x11d1b5390>"
      ]
     },
     "metadata": {},
     "output_type": "display_data"
    }
   ],
   "source": [
    "X_train, X_test, y_train, y_test = train_test_split(list_corpus, list_labels, test_size=0.2, \n",
    "                                                                                random_state=40)\n",
    "\n",
    "# vectorize word counts\n",
    "X_train_counts, count_vectorizer = fit_vectorizer(X_train, vec_type='count')\n",
    "X_test_counts = count_vectorizer.transform(X_test)\n",
    "    \n",
    "# train & test logsitic regression model\n",
    "clf = LogisticRegression(C=30.0, class_weight='balanced', solver='newton-cg', \n",
    "                         multi_class='ovr', n_jobs=-1, random_state=40)\n",
    "clf.fit(X_train_counts, y_train)\n",
    "\n",
    "# get word importance\n",
    "importance = get_most_important_features(count_vectorizer, clf, 10)\n",
    "\n",
    "top_scores = [a[0] for a in importance[0]['tops']]\n",
    "top_words = [a[1] for a in importance[0]['tops']]\n",
    "bottom_scores = [a[0] for a in importance[0]['bottom']]\n",
    "bottom_words = [a[1] for a in importance[0]['bottom']]\n",
    "\n",
    "plot_important_words(top_scores, top_words, bottom_scores, bottom_words, \"Most important words for determining job level - Bag of Words\")"
   ]
  },
  {
   "cell_type": "markdown",
   "metadata": {},
   "source": [
    "## TF-IDF Model"
   ]
  },
  {
   "cell_type": "code",
   "execution_count": 15,
   "metadata": {},
   "outputs": [
    {
     "name": "stdout",
     "output_type": "stream",
     "text": [
      "CURRENT SPLIT: 1\n",
      "accuracy = 0.921, precision = 0.919, recall = 0.921, f1 = 0.918\n",
      "CURRENT SPLIT: 2\n",
      "accuracy = 0.921, precision = 0.924, recall = 0.921, f1 = 0.922\n",
      "CURRENT SPLIT: 3\n",
      "accuracy = 0.832, precision = 0.835, recall = 0.832, f1 = 0.833\n",
      "CURRENT SPLIT: 4\n",
      "accuracy = 0.920, precision = 0.929, recall = 0.920, f1 = 0.922\n",
      "CURRENT SPLIT: 5\n",
      "accuracy = 0.940, precision = 0.940, recall = 0.940, f1 = 0.940\n",
      "CURRENT SPLIT: 6\n",
      "accuracy = 0.910, precision = 0.909, recall = 0.910, f1 = 0.909\n",
      "CURRENT SPLIT: 7\n",
      "accuracy = 0.930, precision = 0.931, recall = 0.930, f1 = 0.931\n",
      "CURRENT SPLIT: 8\n",
      "accuracy = 0.939, precision = 0.953, recall = 0.939, f1 = 0.942\n",
      "CURRENT SPLIT: 9\n",
      "accuracy = 0.929, precision = 0.928, recall = 0.929, f1 = 0.929\n",
      "CURRENT SPLIT: 10\n",
      "accuracy = 0.879, precision = 0.890, recall = 0.879, f1 = 0.883\n",
      "\n",
      "Classification Report\n",
      "             precision    recall  f1-score   support\n",
      "\n",
      "Regular Job       0.95      0.90      0.92        79\n",
      "        Gig       0.67      0.80      0.73        20\n",
      "\n",
      "avg / total       0.89      0.88      0.88        99\n",
      "\n",
      "\n",
      "Confusion Matrix\n",
      "[[71  8]\n",
      " [ 4 16]]\n",
      "\n",
      "Final Perfomance\n",
      "Accuracy: mean 0.912, variance 0.001\n",
      "Precision: mean 0.916, variance 0.001\n",
      "Recall: mean 0.912, variance 0.001\n"
     ]
    }
   ],
   "source": [
    "## run a 10-fold stratified cross validation\n",
    "\n",
    "skf = StratifiedKFold(n_splits=10, random_state=0)\n",
    "\n",
    "X = data['job_title']\n",
    "y = data['class_label']\n",
    "\n",
    "current_split = 1\n",
    "acc_list = []; prec_list = []; rec_list = []\n",
    "for train_index, test_index in skf.split(X, y):\n",
    "    print('CURRENT SPLIT:', current_split)\n",
    "    \n",
    "    # get splits & assign data\n",
    "    X_train, X_test = X[train_index], X[test_index]\n",
    "    y_train, y_test = y[train_index], y[test_index]\n",
    "    \n",
    "    # vectorize word counts\n",
    "    X_train_counts, tfidf_vectorizer = fit_vectorizer(X_train, vec_type='tfidf')\n",
    "    X_test_counts = tfidf_vectorizer.transform(X_test)\n",
    "    \n",
    "    # train & test logsitic regression model\n",
    "    clf = LogisticRegression(C=30.0, class_weight='balanced', solver='newton-cg', \n",
    "                         multi_class='ovr', n_jobs=-1, random_state=40)\n",
    "    clf.fit(X_train_counts, y_train)\n",
    "    y_predicted = clf.predict(X_test_counts)\n",
    "    # check performance\n",
    "    accuracy, precision, recall, f1 = get_metrics(y_test, y_predicted)\n",
    "    print(\"accuracy = %.3f, precision = %.3f, recall = %.3f, f1 = %.3f\" % (accuracy, precision, recall, f1))\n",
    "    \n",
    "    # add metrics to list\n",
    "    acc_list.append(accuracy)\n",
    "    prec_list.append(precision)\n",
    "    rec_list.append(recall)\n",
    "    current_split += 1\n",
    "\n",
    "# Sample classification report\n",
    "cr = classification_report(y_test, y_predicted, labels=[0,1], target_names=['Regular Job', 'Gig'])\n",
    "cm = confusion_matrix(y_test, y_predicted)\n",
    "\n",
    "print('\\nClassification Report')\n",
    "print(cr)\n",
    "print('\\nConfusion Matrix')\n",
    "print(cm)\n",
    "    \n",
    "# Summarize\n",
    "print('\\nFinal Perfomance')\n",
    "print('Accuracy: mean %.3f, variance %.3f' % (np.mean(acc_list), np.var(acc_list)))\n",
    "print('Precision: mean %.3f, variance %.3f' % (np.mean(prec_list), np.var(prec_list)))\n",
    "print('Recall: mean %.3f, variance %.3f'% (np.mean(rec_list), np.var(rec_list)))"
   ]
  },
  {
   "cell_type": "markdown",
   "metadata": {},
   "source": [
    "Most important words for the tf-idf model"
   ]
  },
  {
   "cell_type": "code",
   "execution_count": 16,
   "metadata": {},
   "outputs": [
    {
     "data": {
      "image/png": "[encoded data removed]",
      "text/plain": [
       "<matplotlib.figure.Figure at 0x11d2fbb00>"
      ]
     },
     "metadata": {},
     "output_type": "display_data"
    }
   ],
   "source": [
    "# retrain the model with full dataset\n",
    "X_train, X_test, y_train, y_test = train_test_split(list_corpus, list_labels, test_size=0.2, \n",
    "                                                                                random_state=40)\n",
    "\n",
    "# vectorize word counts\n",
    "X_train_counts, tfidf_vectorizer = fit_vectorizer(X_train, vec_type='tfidf')\n",
    "X_test_counts = tfidf_vectorizer.transform(X_test)\n",
    "    \n",
    "# train & test logsitic regression model\n",
    "clf = LogisticRegression(C=30.0, class_weight='balanced', solver='newton-cg', \n",
    "                         multi_class='ovr', n_jobs=-1, random_state=40)\n",
    "clf.fit(X_train_counts, y_train)\n",
    "\n",
    "# get word importance\n",
    "importance = get_most_important_features(tfidf_vectorizer, clf, 10)\n",
    "\n",
    "top_scores = [a[0] for a in importance[0]['tops']]\n",
    "top_words = [a[1] for a in importance[0]['tops']]\n",
    "bottom_scores = [a[0] for a in importance[0]['bottom']]\n",
    "bottom_words = [a[1] for a in importance[0]['bottom']]\n",
    "\n",
    "plot_important_words(top_scores, top_words, bottom_scores, bottom_words, \"Most important words for determining job level - tf-idf\")"
   ]
  },
  {
   "cell_type": "markdown",
   "metadata": {},
   "source": [
    "If we are happy with the performance of our model, we can retrain it on the entire labeled dataset and use it in production. The model used on our servers to classify jobs daily has undergone more testing and tuning. This one is simplified for clarity and demonstration."
   ]
  },
  {
   "cell_type": "code",
   "execution_count": null,
   "metadata": {
    "collapsed": true
   },
   "outputs": [],
   "source": [
    "#filename = '../models/model_name.pckl'\n",
    "#pickle.dump(model, open(filename, 'wb'))\n",
    "  \n",
    "# load the model from disk\n",
    "#loaded_model = pickle.load(open(filename, 'rb'))\n",
    "#result = loaded_model.score(X_test, Y_test)\n",
    "#print(result)"
   ]
  },
  {
   "cell_type": "markdown",
   "metadata": {},
   "source": [
    "## Conclusion\n",
    "\n",
    "It appears from this first trial, both bag of words and tf-idf approaches perform fairly well on our data. However, a more carefully constructed model should be developed for production environments."
   ]
  }
 ],
 "metadata": {
  "kernelspec": {
   "display_name": "Python 3",
   "language": "python",
   "name": "python3"
  },
  "language_info": {
   "codemirror_mode": {
    "name": "ipython",
    "version": 3
   },
   "file_extension": ".py",
   "mimetype": "text/x-python",
   "name": "python",
   "nbconvert_exporter": "python",
   "pygments_lexer": "ipython3",
   "version": "3.6.7"
  }
 },
 "nbformat": 4,
 "nbformat_minor": 2
}
