{
 "cells": [
  {
   "cell_type": "markdown",
   "metadata": {},
   "source": [
    "# Using Naive Bayes for Multiclass Labeling of Job Data\n",
    "\n",
    "## LogReg vs MNB vs CNB\n",
    "\n",
    "Understanding the availability of jobs is important in determining which positions to feature in ads, who to target, where to target them, and which platforms to target them on.\n",
    "\n",
    "As discussed in the Job Listing EDA notebook, labeling jobs by role or company can be error prone. Instead, learning patterns which are common in a certain type of job and applying a label automatically may be helpful. Especially when dealing with over 10M jobs each day. \n",
    "\n",
    "Here, we continue to explore NLP approaches to classify jobs by title. Previously, we only considered whether a job is a skilled position (nurses, engineers, consultants) or a gig-role (drivers, cashiers, shoppers). Now, we turn our attention to labeling roles into specific categories, such as \"nurse\", \"driver\", \"service\", \"other\"\n",
    "\n",
    "As we continue to grow, we are more interested in targeting job seekers beyond the gig market. Specifically, certain markets have shown higher conversions for skilled positions, such as nursing. Thus, it is important to have a model that can provide our ad-ops teams with a variety of roles.\n",
    "\n",
    "## Naive Bayes\n",
    "\n",
    "Naive Bayes classifiers are a group of probabilistic methods that apply Bayes' theorem while assuming (naively) conditional independence between every pair of features given the value of the class variable. \n",
    "\n",
    "Previously, we explored Naive Bayes classifiers as they offer several distinct benefits:\n",
    "\n",
    "+ Easy to understand: a term has a probability of being associated with a particular label \n",
    "+ Easy to train and can be used to apply multiple labels, given sufficient training examples for each label \n",
    "+ Model can continue to be re-trained as more labeled samples become available"
   ]
  },
  {
   "cell_type": "code",
   "execution_count": 2,
   "metadata": {
    "collapsed": true
   },
   "outputs": [],
   "source": [
    "import os, itertools\n",
    "import numpy as np\n",
    "import pandas as pd\n",
    "import matplotlib.pyplot as plt\n",
    "%matplotlib inline"
   ]
  },
  {
   "cell_type": "code",
   "execution_count": 16,
   "metadata": {},
   "outputs": [
    {
     "data": {
      "text/plain": [
       "Index(['title', 'company', 'city', 'state', 'url', 'gig', 'label'], dtype='object')"
      ]
     },
     "execution_count": 16,
     "metadata": {},
     "output_type": "execute_result"
    }
   ],
   "source": [
    "# update & anonymize data source\n",
    "data = pd.read_csv('../data/multiclass/gigs_relabeled.csv')\n",
    "data = data.dropna()\n",
    "data.columns"
   ]
  },
  {
   "cell_type": "code",
   "execution_count": 17,
   "metadata": {},
   "outputs": [
    {
     "data": {
      "text/plain": [
       "ignore     123\n",
       "driver     120\n",
       "retail      45\n",
       "service     31\n",
       "Name: label, dtype: int64"
      ]
     },
     "execution_count": 17,
     "metadata": {},
     "output_type": "execute_result"
    }
   ],
   "source": [
    "# drop unnecessary / underrepresented labels for demo\n",
    "data = data[~(data['label']=='security')]\n",
    "data.label.value_counts()"
   ]
  },
  {
   "cell_type": "markdown",
   "metadata": {},
   "source": [
    "** Cleanup text **"
   ]
  },
  {
   "cell_type": "code",
   "execution_count": 5,
   "metadata": {
    "collapsed": true
   },
   "outputs": [],
   "source": [
    "def standardize_text(df, text_field):\n",
    "    '''Clean-up text column to prepare for tokenization\n",
    "    \n",
    "    Removes unwanted characters &\n",
    "    Replaces them with spaces or blanks\n",
    "    --\n",
    "    Input\n",
    "    + pandas dataframe\n",
    "    + name of text column\n",
    "    \n",
    "    Returns\n",
    "    + pandas dataframe with cleaned column\n",
    "    '''\n",
    "    df[text_field] = df[text_field].str.replace(r\"http\\S+\", \"\")\n",
    "    df[text_field] = df[text_field].str.replace(r\"http\", \"\")\n",
    "    df[text_field] = df[text_field].str.replace(r\"@\\S+\", \"\")\n",
    "    df[text_field] = df[text_field].str.replace(r\"[^A-Za-z0-9(),!?@\\'\\`\\\"\\_\\n]\", \" \")\n",
    "    df[text_field] = df[text_field].str.replace(r\"@\", \"at\")\n",
    "    df[text_field] = df[text_field].str.lower()\n",
    "    return df"
   ]
  },
  {
   "cell_type": "code",
   "execution_count": 19,
   "metadata": {
    "scrolled": true
   },
   "outputs": [
    {
     "data": {
      "text/html": [
       "<div>\n",
       "<style scoped>\n",
       "    .dataframe tbody tr th:only-of-type {\n",
       "        vertical-align: middle;\n",
       "    }\n",
       "\n",
       "    .dataframe tbody tr th {\n",
       "        vertical-align: top;\n",
       "    }\n",
       "\n",
       "    .dataframe thead th {\n",
       "        text-align: right;\n",
       "    }\n",
       "</style>\n",
       "<table border=\"1\" class=\"dataframe\">\n",
       "  <thead>\n",
       "    <tr style=\"text-align: right;\">\n",
       "      <th></th>\n",
       "      <th>job_title</th>\n",
       "      <th>class_label</th>\n",
       "    </tr>\n",
       "  </thead>\n",
       "  <tbody>\n",
       "    <tr>\n",
       "      <th>0</th>\n",
       "      <td>driver</td>\n",
       "      <td>driver</td>\n",
       "    </tr>\n",
       "    <tr>\n",
       "      <th>1</th>\n",
       "      <td>route sales driver owensboro ky</td>\n",
       "      <td>driver</td>\n",
       "    </tr>\n",
       "    <tr>\n",
       "      <th>2</th>\n",
       "      <td>what is the homes platform team at airbnb?</td>\n",
       "      <td>ignore</td>\n",
       "    </tr>\n",
       "    <tr>\n",
       "      <th>4</th>\n",
       "      <td>be your own boss   earn  1,700 your first mont...</td>\n",
       "      <td>driver</td>\n",
       "    </tr>\n",
       "    <tr>\n",
       "      <th>5</th>\n",
       "      <td>be your own boss   earn  900 your first month,...</td>\n",
       "      <td>driver</td>\n",
       "    </tr>\n",
       "  </tbody>\n",
       "</table>\n",
       "</div>"
      ],
      "text/plain": [
       "                                           job_title class_label\n",
       "0                                             driver      driver\n",
       "1                    route sales driver owensboro ky      driver\n",
       "2         what is the homes platform team at airbnb?      ignore\n",
       "4  be your own boss   earn  1,700 your first mont...      driver\n",
       "5  be your own boss   earn  900 your first month,...      driver"
      ]
     },
     "execution_count": 19,
     "metadata": {},
     "output_type": "execute_result"
    }
   ],
   "source": [
    "cols_to_train = ['title', 'label'] \n",
    "data = data[cols_to_train]    \n",
    "\n",
    "data = standardize_text(data, 'title')\n",
    "\n",
    "col_names = {'title':'job_title',\n",
    "             'label':'class_label'}    \n",
    "\n",
    "data = data.rename(columns=col_names)\n",
    "\n",
    "data.head()"
   ]
  },
  {
   "cell_type": "markdown",
   "metadata": {},
   "source": [
    "## Preprocessing"
   ]
  },
  {
   "cell_type": "code",
   "execution_count": 8,
   "metadata": {
    "collapsed": true
   },
   "outputs": [],
   "source": [
    "import keras\n",
    "import nltk\n",
    "import re\n",
    "import codecs"
   ]
  },
  {
   "cell_type": "code",
   "execution_count": 9,
   "metadata": {
    "collapsed": true
   },
   "outputs": [],
   "source": [
    "from nltk.tokenize import RegexpTokenizer"
   ]
  },
  {
   "cell_type": "markdown",
   "metadata": {},
   "source": [
    "### Evaluation & Vizualization tools\n",
    "\n",
    "Some functions to help assess model performance."
   ]
  },
  {
   "cell_type": "code",
   "execution_count": 20,
   "metadata": {
    "collapsed": true
   },
   "outputs": [],
   "source": [
    "from sklearn.feature_extraction.text import CountVectorizer, TfidfVectorizer\n",
    "\n",
    "def fit_vectorizer(data, vec_type='count'):\n",
    "    '''Create and fit a vectorizer\n",
    "    \n",
    "    Options:\n",
    "    + count -> count_vectorizer \n",
    "    + tfidf -> tfidf_vectorizer\n",
    "    \n",
    "    Input:\n",
    "    + data - X data to fit the model\n",
    "    + vec_type - name of vectorizer to use\n",
    "    \n",
    "    Returns:\n",
    "    + Document-term matrix or Tf-idf-weighted document-term matrix\n",
    "    + vectorizer - fitted model\n",
    "    '''\n",
    "    if vec_type=='count':\n",
    "        vectorizer = CountVectorizer()\n",
    "    elif vec_type=='tfidf':\n",
    "        vectorizer = TfidfVectorizer()\n",
    "    else:\n",
    "        print('Please select an appropriate option')\n",
    "    \n",
    "    emb = vectorizer.fit_transform(data)\n",
    "\n",
    "    return emb, vectorizer"
   ]
  },
  {
   "cell_type": "code",
   "execution_count": 2,
   "metadata": {
    "collapsed": true
   },
   "outputs": [],
   "source": [
    "from sklearn.model_selection import train_test_split\n",
    "from sklearn.metrics import confusion_matrix\n",
    "\n",
    "def plot_confusion_matrix(cm,\n",
    "                          target_names,\n",
    "                          title='Confusion matrix',\n",
    "                          cmap=None,\n",
    "                          normalize=True):\n",
    "    \n",
    "    '''\n",
    "    \n",
    "    Plot a confusion matrix to visualize classification performance\n",
    "    \n",
    "    Input:\n",
    "    + cm - confusion matrix for a classifier\n",
    "    + target_names - names of classes (use clf.classes_)\n",
    "    + title - name of plot\n",
    "    + cmap - option to specift colormap for plot\n",
    "    + normalize - option to normalize values\n",
    "    \n",
    "    Returns:\n",
    "    + Plot of shaded confusion matrix, including accuracy and missclassification\n",
    "    \n",
    "    '''\n",
    "\n",
    "    accuracy = np.trace(cm) / float(np.sum(cm))\n",
    "    misclass = 1 - accuracy\n",
    "\n",
    "    if cmap is None:\n",
    "        cmap = plt.get_cmap('Blues')\n",
    "\n",
    "    plt.figure(figsize=(8, 6))\n",
    "    plt.imshow(cm, interpolation='nearest', cmap=cmap)\n",
    "    plt.title(title)\n",
    "    plt.colorbar()\n",
    "\n",
    "    if target_names is not None:\n",
    "        tick_marks = np.arange(len(target_names))\n",
    "        plt.xticks(tick_marks, target_names, rotation=45)\n",
    "        plt.yticks(tick_marks, target_names)\n",
    "\n",
    "    if normalize:\n",
    "        cm = cm.astype('float') / cm.sum(axis=1)[:, np.newaxis]\n",
    "\n",
    "\n",
    "    thresh = cm.max() / 1.5 if normalize else cm.max() / 2\n",
    "    for i, j in itertools.product(range(cm.shape[0]), range(cm.shape[1])):\n",
    "        if normalize:\n",
    "            plt.text(j, i, \"{:0.4f}\".format(cm[i, j]),\n",
    "                     horizontalalignment=\"center\",\n",
    "                     color=\"white\" if cm[i, j] > thresh else \"black\")\n",
    "        else:\n",
    "            plt.text(j, i, \"{:,}\".format(cm[i, j]),\n",
    "                     horizontalalignment=\"center\",\n",
    "                     color=\"white\" if cm[i, j] > thresh else \"black\")\n",
    "\n",
    "\n",
    "    plt.tight_layout()\n",
    "    plt.ylabel('True label')\n",
    "    plt.xlabel('Predicted label\\naccuracy={:0.4f}; misclass={:0.4f}'.format(accuracy, misclass))\n",
    "\n",
    "    return plt"
   ]
  },
  {
   "cell_type": "code",
   "execution_count": 22,
   "metadata": {},
   "outputs": [
    {
     "data": {
      "text/html": [
       "<div>\n",
       "<style scoped>\n",
       "    .dataframe tbody tr th:only-of-type {\n",
       "        vertical-align: middle;\n",
       "    }\n",
       "\n",
       "    .dataframe tbody tr th {\n",
       "        vertical-align: top;\n",
       "    }\n",
       "\n",
       "    .dataframe thead th {\n",
       "        text-align: right;\n",
       "    }\n",
       "</style>\n",
       "<table border=\"1\" class=\"dataframe\">\n",
       "  <thead>\n",
       "    <tr style=\"text-align: right;\">\n",
       "      <th></th>\n",
       "      <th>job_title</th>\n",
       "      <th>class_label</th>\n",
       "      <th>tokens</th>\n",
       "    </tr>\n",
       "  </thead>\n",
       "  <tbody>\n",
       "    <tr>\n",
       "      <th>0</th>\n",
       "      <td>driver</td>\n",
       "      <td>driver</td>\n",
       "      <td>[driver]</td>\n",
       "    </tr>\n",
       "    <tr>\n",
       "      <th>1</th>\n",
       "      <td>route sales driver owensboro ky</td>\n",
       "      <td>driver</td>\n",
       "      <td>[route, sales, driver, owensboro, ky]</td>\n",
       "    </tr>\n",
       "    <tr>\n",
       "      <th>2</th>\n",
       "      <td>what is the homes platform team at airbnb?</td>\n",
       "      <td>ignore</td>\n",
       "      <td>[what, is, the, homes, platform, team, at, air...</td>\n",
       "    </tr>\n",
       "    <tr>\n",
       "      <th>4</th>\n",
       "      <td>be your own boss   earn  1,700 your first mont...</td>\n",
       "      <td>driver</td>\n",
       "      <td>[be, your, own, boss, earn, 1, 700, your, firs...</td>\n",
       "    </tr>\n",
       "    <tr>\n",
       "      <th>5</th>\n",
       "      <td>be your own boss   earn  900 your first month,...</td>\n",
       "      <td>driver</td>\n",
       "      <td>[be, your, own, boss, earn, 900, your, first, ...</td>\n",
       "    </tr>\n",
       "  </tbody>\n",
       "</table>\n",
       "</div>"
      ],
      "text/plain": [
       "                                           job_title class_label  \\\n",
       "0                                             driver      driver   \n",
       "1                    route sales driver owensboro ky      driver   \n",
       "2         what is the homes platform team at airbnb?      ignore   \n",
       "4  be your own boss   earn  1,700 your first mont...      driver   \n",
       "5  be your own boss   earn  900 your first month,...      driver   \n",
       "\n",
       "                                              tokens  \n",
       "0                                           [driver]  \n",
       "1              [route, sales, driver, owensboro, ky]  \n",
       "2  [what, is, the, homes, platform, team, at, air...  \n",
       "4  [be, your, own, boss, earn, 1, 700, your, firs...  \n",
       "5  [be, your, own, boss, earn, 900, your, first, ...  "
      ]
     },
     "execution_count": 22,
     "metadata": {},
     "output_type": "execute_result"
    }
   ],
   "source": [
    "tokenizer = RegexpTokenizer(r'\\w+')\n",
    "\n",
    "data['tokens'] = data['job_title'].apply(tokenizer.tokenize)\n",
    "data.head()"
   ]
  },
  {
   "cell_type": "markdown",
   "metadata": {},
   "source": [
    "### Multiclass naive bayes\n",
    "\n",
    "Here, we use Multinomial Naive Bayes. MNB implements the naive Bayes algorithm for multinomially distributed data. This is useful when features are discrete and is commonly used in text classification.\n",
    "\n",
    "For later use, we should also consider Complement Naive Bayes. CNB is not tested here, as it is not available on the local version of scikit (0.19.0) at the time of this demo.\n",
    "\n",
    "Complement Naive Bayes is an adaptation of the Multinomial Naive Bayes algorithm. It has been shown to outperform MNB on text classification tasks. It is also well suited for imbalanced data sets. "
   ]
  },
  {
   "cell_type": "code",
   "execution_count": 14,
   "metadata": {
    "collapsed": true
   },
   "outputs": [],
   "source": [
    "from sklearn.naive_bayes import MultinomialNB "
   ]
  },
  {
   "cell_type": "code",
   "execution_count": 23,
   "metadata": {},
   "outputs": [
    {
     "name": "stdout",
     "output_type": "stream",
     "text": [
      "0.75\n"
     ]
    }
   ],
   "source": [
    "# X -> features, y -> label \n",
    "X = data['job_title']\n",
    "y = data['class_label']\n",
    "\n",
    "# dividing X, y into train and test data \n",
    "X_train, X_test, y_train, y_test = train_test_split(X, y, random_state = 0) \n",
    "\n",
    "X_train_counts, count_vectorizer = fit_vectorizer(X_train, vec_type='count')\n",
    "X_test_counts = count_vectorizer.transform(X_test)\n",
    "  \n",
    "# training a Naive Bayes classifier \n",
    "mnb = MultinomialNB().fit(X_train_counts, y_train) \n",
    "mnb_predictions = mnb.predict(X_test_counts) \n",
    "  \n",
    "# accuracy on X_test \n",
    "accuracy = mnb.score(X_test_counts, y_test) \n",
    "print(accuracy)\n",
    "  \n",
    "# creating a confusion matrix \n",
    "cm = confusion_matrix(y_test, mnb_predictions)"
   ]
  },
  {
   "cell_type": "markdown",
   "metadata": {},
   "source": [
    "75% accuracy is not great...but we don't have much data to begin with. Let's get some more."
   ]
  },
  {
   "cell_type": "code",
   "execution_count": 23,
   "metadata": {},
   "outputs": [
    {
     "data": {
      "text/plain": [
       "array(['driver', 'ignore', 'retail', 'service'], dtype='<U7')"
      ]
     },
     "execution_count": 23,
     "metadata": {},
     "output_type": "execute_result"
    }
   ],
   "source": [
    "mnb.classes_"
   ]
  },
  {
   "cell_type": "code",
   "execution_count": 24,
   "metadata": {},
   "outputs": [
    {
     "data": {
      "text/plain": [
       "<module 'matplotlib.pyplot' from '/anaconda/lib/python3.6/site-packages/matplotlib/pyplot.py'>"
      ]
     },
     "execution_count": 24,
     "metadata": {},
     "output_type": "execute_result"
    },
    {
     "data": {
      "image/png": "[encoded data removed]",
      "text/plain": [
       "<matplotlib.figure.Figure at 0x10dcc3400>"
      ]
     },
     "metadata": {},
     "output_type": "display_data"
    }
   ],
   "source": [
    "plot_confusion_matrix(cm, \n",
    "                      target_names=mnb.classes_,\n",
    "                      title='Confusion matrix',\n",
    "                      cmap=None,\n",
    "                      normalize=True)"
   ]
  },
  {
   "cell_type": "markdown",
   "metadata": {},
   "source": [
    "## Additional Training Data\n",
    "\n",
    "### Training Set Size & Class imbalance\n",
    "\n",
    "One noticeable issue is that in both of the previous datasets, we find ourselves with a small dataset to train our model. This isn't necessarily bad, as Naive Bayes can still perform fairly well, even with limited data. But when we want to apply our classifier to listings outside of a specific job feed, or to classify roles beyond the ones our model is trained to identify, we expect performance to suffer. Therefore, a larger labeled dataset is necessary to properly train our model for production.\n",
    "\n",
    "Furthermore, we see a very large imbalance between the classes. The imbalance isn't the key issue here. Rather, we simply aren't seeing enough of the other classes to learn what they look like. We can return to a more primitive method of labeling roles if the name of the role is present in the title. This allows us to also pick up on secondary terms which may also be associated with a particular role. Most importantly, this allows us to grow the size of the training data, and add more observances of the underrepresented classes."
   ]
  },
  {
   "cell_type": "code",
   "execution_count": 56,
   "metadata": {},
   "outputs": [
    {
     "data": {
      "text/html": [
       "<div>\n",
       "<style scoped>\n",
       "    .dataframe tbody tr th:only-of-type {\n",
       "        vertical-align: middle;\n",
       "    }\n",
       "\n",
       "    .dataframe tbody tr th {\n",
       "        vertical-align: top;\n",
       "    }\n",
       "\n",
       "    .dataframe thead th {\n",
       "        text-align: right;\n",
       "    }\n",
       "</style>\n",
       "<table border=\"1\" class=\"dataframe\">\n",
       "  <thead>\n",
       "    <tr style=\"text-align: right;\">\n",
       "      <th></th>\n",
       "      <th>title</th>\n",
       "      <th>role</th>\n",
       "    </tr>\n",
       "  </thead>\n",
       "  <tbody>\n",
       "    <tr>\n",
       "      <th>0</th>\n",
       "      <td>warehouse/ delivery driver</td>\n",
       "      <td>delivery</td>\n",
       "    </tr>\n",
       "    <tr>\n",
       "      <th>1</th>\n",
       "      <td>warehouse/delivery driver</td>\n",
       "      <td>delivery</td>\n",
       "    </tr>\n",
       "    <tr>\n",
       "      <th>2</th>\n",
       "      <td>wait staff/server</td>\n",
       "      <td>server</td>\n",
       "    </tr>\n",
       "    <tr>\n",
       "      <th>3</th>\n",
       "      <td>wait staff/server</td>\n",
       "      <td>server</td>\n",
       "    </tr>\n",
       "    <tr>\n",
       "      <th>4</th>\n",
       "      <td>wait staff/server</td>\n",
       "      <td>server</td>\n",
       "    </tr>\n",
       "  </tbody>\n",
       "</table>\n",
       "</div>"
      ],
      "text/plain": [
       "                        title      role\n",
       "0  warehouse/ delivery driver  delivery\n",
       "1   warehouse/delivery driver  delivery\n",
       "2           wait staff/server    server\n",
       "3           wait staff/server    server\n",
       "4           wait staff/server    server"
      ]
     },
     "execution_count": 56,
     "metadata": {},
     "output_type": "execute_result"
    }
   ],
   "source": [
    "# load labeled data\n",
    "df_labeled = pd.read_csv('../data/multiclass/labeled_large.csv')\n",
    "\n",
    "# remove samples not of interest\n",
    "exclude = ['crna', 'pharmacist', 'cna']\n",
    "df_labeled = df_labeled[~(df_labeled.isin(exclude))]\n",
    "\n",
    "# map roles to general labels\n",
    "role_mapper = {'delivery':'driver', \n",
    "               'server':'service', \n",
    "               'product manager':'ignore', \n",
    "               'software engineer':'ignore',\n",
    "               'electrical engineer':'ignore', \n",
    "               'systems engineer':'ignore', \n",
    "               'mechanical engineer':'ignore',\n",
    "               'nurse':'nurse', \n",
    "               'business analyst':'ignore', \n",
    "               'cook':'service', \n",
    "               'chef':'service',\n",
    "               'devops engineer':'ignore', \n",
    "               'machine learning engineer':'ignore', \n",
    "               'registered nurse':'nurse', \n",
    "               'cdl':'ignore'}\n",
    "\n",
    "df_labeled['label'] = df_labeled['role'].map(role_mapper)\n",
    "\n",
    "df_labeled = df_labeled[cols_to_train]\n",
    "\n",
    "df_labeled.head()"
   ]
  },
  {
   "cell_type": "code",
   "execution_count": 60,
   "metadata": {},
   "outputs": [
    {
     "data": {
      "text/plain": [
       "ignore     72376\n",
       "nurse      53862\n",
       "service    48280\n",
       "driver     22997\n",
       "Name: label, dtype: int64"
      ]
     },
     "execution_count": 60,
     "metadata": {},
     "output_type": "execute_result"
    }
   ],
   "source": [
    "df_labeled.label.value_counts()"
   ]
  },
  {
   "cell_type": "markdown",
   "metadata": {},
   "source": [
    "There is still an imbalance in classes, but much more representation of each class we're interested in labeling."
   ]
  },
  {
   "cell_type": "code",
   "execution_count": 62,
   "metadata": {},
   "outputs": [
    {
     "data": {
      "text/html": [
       "<div>\n",
       "<style scoped>\n",
       "    .dataframe tbody tr th:only-of-type {\n",
       "        vertical-align: middle;\n",
       "    }\n",
       "\n",
       "    .dataframe tbody tr th {\n",
       "        vertical-align: top;\n",
       "    }\n",
       "\n",
       "    .dataframe thead th {\n",
       "        text-align: right;\n",
       "    }\n",
       "</style>\n",
       "<table border=\"1\" class=\"dataframe\">\n",
       "  <thead>\n",
       "    <tr style=\"text-align: right;\">\n",
       "      <th></th>\n",
       "      <th>job_title</th>\n",
       "      <th>class_label</th>\n",
       "    </tr>\n",
       "  </thead>\n",
       "  <tbody>\n",
       "    <tr>\n",
       "      <th>0</th>\n",
       "      <td>warehouse  delivery driver</td>\n",
       "      <td>driver</td>\n",
       "    </tr>\n",
       "    <tr>\n",
       "      <th>1</th>\n",
       "      <td>warehouse delivery driver</td>\n",
       "      <td>driver</td>\n",
       "    </tr>\n",
       "    <tr>\n",
       "      <th>2</th>\n",
       "      <td>wait staff server</td>\n",
       "      <td>service</td>\n",
       "    </tr>\n",
       "    <tr>\n",
       "      <th>3</th>\n",
       "      <td>wait staff server</td>\n",
       "      <td>service</td>\n",
       "    </tr>\n",
       "    <tr>\n",
       "      <th>4</th>\n",
       "      <td>wait staff server</td>\n",
       "      <td>service</td>\n",
       "    </tr>\n",
       "  </tbody>\n",
       "</table>\n",
       "</div>"
      ],
      "text/plain": [
       "                    job_title class_label\n",
       "0  warehouse  delivery driver      driver\n",
       "1   warehouse delivery driver      driver\n",
       "2           wait staff server     service\n",
       "3           wait staff server     service\n",
       "4           wait staff server     service"
      ]
     },
     "execution_count": 62,
     "metadata": {},
     "output_type": "execute_result"
    }
   ],
   "source": [
    "df_labeled = standardize_text(df_labeled, 'title')\n",
    "df_labeled = df_labeled.rename(columns=col_names)\n",
    "df_labeled.head()"
   ]
  },
  {
   "cell_type": "code",
   "execution_count": 76,
   "metadata": {},
   "outputs": [
    {
     "name": "stdout",
     "output_type": "stream",
     "text": [
      "0.9936207699629397\n"
     ]
    }
   ],
   "source": [
    "df_labeled = df_labeled.dropna()\n",
    "tokenizer = RegexpTokenizer(r'\\w+')\n",
    "\n",
    "df_labeled['tokens'] = df_labeled['job_title'].apply(tokenizer.tokenize)\n",
    "    \n",
    "# X -> features, y -> label \n",
    "X = df_labeled['job_title']\n",
    "y = df_labeled['class_label']\n",
    "\n",
    "# dividing X, y into train and test data \n",
    "X_train, X_test, y_train, y_test = train_test_split(X, y, random_state = 40) \n",
    "\n",
    "X_train_counts, count_vectorizer = fit_vectorizer(X_train, vec_type='count')\n",
    "X_test_counts = count_vectorizer.transform(X_test)\n",
    "\n",
    "# training a Naive Bayes classifier \n",
    "mnb = MultinomialNB().fit(X_train_counts, y_train) \n",
    "mnb_predictions = mnb.predict(X_test_counts) \n",
    "\n",
    "# accuracy on X_test \n",
    "accuracy = mnb.score(X_test_counts, y_test) \n",
    "print(accuracy)\n",
    "\n",
    "# creating a confusion matrix \n",
    "cm = confusion_matrix(y_test, mnb_predictions)"
   ]
  },
  {
   "cell_type": "code",
   "execution_count": 81,
   "metadata": {},
   "outputs": [
    {
     "data": {
      "image/png": "[encoded data removed]",
      "text/plain": [
       "<matplotlib.figure.Figure at 0x127f18780>"
      ]
     },
     "metadata": {},
     "output_type": "display_data"
    }
   ],
   "source": [
    "plot_confusion_matrix(cm, \n",
    "                          target_names=mnb.classes_,\n",
    "                          title='Confusion matrix - {} test examples'.format(len(y_test)),\n",
    "                          cmap=None,\n",
    "                          normalize=True)"
   ]
  },
  {
   "cell_type": "markdown",
   "metadata": {},
   "source": [
    "## Summary\n",
    "\n",
    "We see that Naive Bayes identifies most roles with over 99.9% accuracy. In the cases where it is not so accurate, such driver roles, it is still above 95% accurate. For our purposes, this level of performance is acceptable, since a manual selection step is still involved after roles are labeled. Again, this approach greatly reduces manual processing time, and allows our team to sort through more jobs than possible without these methods.\n",
    "\n",
    "Moving away from the two-class approach to labeling jobs allows for better and more rapid identification of roles within a specific area. For our purposes, this allows us to filter through 40 GB of job data daily and identify a select number of job posts to feature in online advertisements. This approach is extensible and can also be applied by potential job seekers to find roles they are interested in.\n",
    "\n",
    "## Implementation\n",
    "\n",
    "We found that in practice, Naive Bayes approaches, both Multinomial and Complement, performed inconsistently on out-of-test set data. Thus leading to unreliable job label predictions. Motivated by this, we tested Logistic Regression for multi-class labeling and found it very successful. Moreover, it was shown to perfom well on out of sample data and is currently used in production to generate daily job recommendations which feed into our chatbot.\n",
    "\n",
    "Below are the results from evaluating a re-labeled training set to classify tech (software), nursing, service, and driving jobs, while ignoring the rest. We also evaluated complement naive Bayes in addition to logistic regression and multinomial NB. These sets were tested on AWS as the local machine where this notebook was created does not have the most current version of scikit-learn."
   ]
  },
  {
   "cell_type": "code",
   "execution_count": 109,
   "metadata": {},
   "outputs": [],
   "source": [
    "cm_labels = ['tech', 'nurse', 'service', 'driver', 'ignore']\n",
    "\n",
    "lr_cm = np.array([[ 3580,     0,     0,     0,     3],\n",
    "                  [    0, 13529,     2,     0,     0],\n",
    "                  [    0,     0, 12160,     0,     3],\n",
    "                  [    0,     0,     1,  5775,     3],\n",
    "                  [   20,     0,     0,     1, 14302]])\n",
    "\n",
    "mnb_cm = np.array([[ 3580,     0,     0,     0,     3],\n",
    "                   [    1, 13529,     1,     0,     0],\n",
    "                   [   45,    21, 12085,     5,     7],\n",
    "                   [   11,    70,     0,  5550,   148],\n",
    "                   [  547,     1,     0,    10, 13765]])\n",
    "\n",
    "cnb_cm = np.array([[ 3579,     1,     0,     0,     3],\n",
    "                   [    0, 13530,     1,     0,     0],\n",
    "                   [    8,    18, 12130,     3,     4],\n",
    "                   [   29,   132,    35,  5441,   142],\n",
    "                   [   96,    10,     3,     3, 14211]])"
   ]
  },
  {
   "cell_type": "code",
   "execution_count": 117,
   "metadata": {
    "collapsed": true
   },
   "outputs": [],
   "source": [
    "# calculate precision, recall, f1 manually to confirm correct labels\n",
    "def class_metrics(cm, class_labels):\n",
    "    print('class | precision | recall | f1 score | jaccard')\n",
    "    for i in range(len(class_labels)):\n",
    "        tp = cm[i][i]\n",
    "        fp = sum(cm[:,i]) - tp\n",
    "        fn = sum(cm[i,:]) - tp\n",
    "        prec = tp/(tp + fp)\n",
    "        rec = tp/(tp + fn)\n",
    "        f = 2*(prec*rec)/(prec+rec)\n",
    "        jaccard = tp/(tp+fp+fn)\n",
    "        print(class_labels[i],tp, str(prec)[0:6], str(rec)[0:6], str(f)[0:6], str(jaccard)[0:6])\n",
    "        \n",
    "def class_metrics_df(cm, class_labels):\n",
    "    \n",
    "    # define & initialize\n",
    "    metric_names = ['precision', 'recall', 'f1 score','jaccard']\n",
    "    precs = []\n",
    "    recs = []\n",
    "    fs = []\n",
    "    jacs = []\n",
    "    \n",
    "    for i in range(len(class_labels)):\n",
    "        \n",
    "        # calculate\n",
    "        tp = cm[i][i]\n",
    "        fp = sum(cm[:,i]) - tp\n",
    "        fn = sum(cm[i,:]) - tp\n",
    "        prec = tp/(tp + fp)\n",
    "        rec = tp/(tp + fn)\n",
    "        f = 2*(prec*rec)/(prec+rec)\n",
    "        jaccard = tp/(tp+fp+fn)\n",
    "        \n",
    "        # append\n",
    "        precs.append(prec)\n",
    "        recs.append(rec)\n",
    "        fs.append(f)\n",
    "        jacs.append(jaccard)\n",
    "    \n",
    "    # create df\n",
    "    all_metrics = [precs, recs, fs, jacs]\n",
    "    df = pd.DataFrame(all_metrics, \n",
    "             columns = class_labels, \n",
    "             index=metric_names).round(4).T\n",
    "    \n",
    "    return df"
   ]
  },
  {
   "cell_type": "code",
   "execution_count": 7,
   "metadata": {},
   "outputs": [
    {
     "name": "stdout",
     "output_type": "stream",
     "text": [
      "There are 49379 examples in the training set\n"
     ]
    }
   ],
   "source": [
    "print('There are {} examples in the training set'.format(sum(sum(lr_cm))))"
   ]
  },
  {
   "cell_type": "code",
   "execution_count": 9,
   "metadata": {},
   "outputs": [
    {
     "data": {
      "text/plain": [
       "<module 'matplotlib.pyplot' from '/anaconda/lib/python3.6/site-packages/matplotlib/pyplot.py'>"
      ]
     },
     "execution_count": 9,
     "metadata": {},
     "output_type": "execute_result"
    },
    {
     "data": {
      "image/png": "[encoded data removed]",
      "text/plain": [
       "<matplotlib.figure.Figure at 0x121584208>"
      ]
     },
     "metadata": {},
     "output_type": "display_data"
    }
   ],
   "source": [
    "plot_confusion_matrix(lr_cm, target_names=cm_labels, title='Confusion matrix - Logistic Regression',\n",
    "                      cmap=None, normalize=False)"
   ]
  },
  {
   "cell_type": "code",
   "execution_count": 121,
   "metadata": {},
   "outputs": [
    {
     "name": "stdout",
     "output_type": "stream",
     "text": [
      "LOGISTIC REGRESSION\n",
      "\n",
      "Overall metrics\n",
      "accuracy = 0.999, precision = 0.999, recall = 0.999, f1 = 0.999\n",
      "\n",
      "In class metrics\n"
     ]
    },
    {
     "data": {
      "text/html": [
       "<div>\n",
       "<style scoped>\n",
       "    .dataframe tbody tr th:only-of-type {\n",
       "        vertical-align: middle;\n",
       "    }\n",
       "\n",
       "    .dataframe tbody tr th {\n",
       "        vertical-align: top;\n",
       "    }\n",
       "\n",
       "    .dataframe thead th {\n",
       "        text-align: right;\n",
       "    }\n",
       "</style>\n",
       "<table border=\"1\" class=\"dataframe\">\n",
       "  <thead>\n",
       "    <tr style=\"text-align: right;\">\n",
       "      <th></th>\n",
       "      <th>precision</th>\n",
       "      <th>recall</th>\n",
       "      <th>f1 score</th>\n",
       "      <th>jaccard</th>\n",
       "    </tr>\n",
       "  </thead>\n",
       "  <tbody>\n",
       "    <tr>\n",
       "      <th>tech</th>\n",
       "      <td>0.9944</td>\n",
       "      <td>0.9992</td>\n",
       "      <td>0.9968</td>\n",
       "      <td>0.9936</td>\n",
       "    </tr>\n",
       "    <tr>\n",
       "      <th>nurse</th>\n",
       "      <td>1.0000</td>\n",
       "      <td>0.9999</td>\n",
       "      <td>0.9999</td>\n",
       "      <td>0.9999</td>\n",
       "    </tr>\n",
       "    <tr>\n",
       "      <th>service</th>\n",
       "      <td>0.9998</td>\n",
       "      <td>0.9998</td>\n",
       "      <td>0.9998</td>\n",
       "      <td>0.9995</td>\n",
       "    </tr>\n",
       "    <tr>\n",
       "      <th>driver</th>\n",
       "      <td>0.9998</td>\n",
       "      <td>0.9993</td>\n",
       "      <td>0.9996</td>\n",
       "      <td>0.9991</td>\n",
       "    </tr>\n",
       "    <tr>\n",
       "      <th>ignore</th>\n",
       "      <td>0.9994</td>\n",
       "      <td>0.9985</td>\n",
       "      <td>0.9990</td>\n",
       "      <td>0.9979</td>\n",
       "    </tr>\n",
       "  </tbody>\n",
       "</table>\n",
       "</div>"
      ],
      "text/plain": [
       "         precision  recall  f1 score  jaccard\n",
       "tech        0.9944  0.9992    0.9968   0.9936\n",
       "nurse       1.0000  0.9999    0.9999   0.9999\n",
       "service     0.9998  0.9998    0.9998   0.9995\n",
       "driver      0.9998  0.9993    0.9996   0.9991\n",
       "ignore      0.9994  0.9985    0.9990   0.9979"
      ]
     },
     "execution_count": 121,
     "metadata": {},
     "output_type": "execute_result"
    }
   ],
   "source": [
    "print('LOGISTIC REGRESSION')\n",
    "\n",
    "print('\\nOverall metrics')\n",
    "print('accuracy = 0.999, precision = 0.999, recall = 0.999, f1 = 0.999')\n",
    "\n",
    "print('\\nIn class metrics')\n",
    "class_metrics_df(lr_cm, cm_labels)"
   ]
  },
  {
   "cell_type": "code",
   "execution_count": 10,
   "metadata": {},
   "outputs": [
    {
     "data": {
      "text/plain": [
       "<module 'matplotlib.pyplot' from '/anaconda/lib/python3.6/site-packages/matplotlib/pyplot.py'>"
      ]
     },
     "execution_count": 10,
     "metadata": {},
     "output_type": "execute_result"
    },
    {
     "data": {
      "image/png": "[encoded data removed]",
      "text/plain": [
       "<matplotlib.figure.Figure at 0x1215ba748>"
      ]
     },
     "metadata": {},
     "output_type": "display_data"
    }
   ],
   "source": [
    "plot_confusion_matrix(mnb_cm, target_names=cm_labels, title='Confusion matrix - Multinomial Naive Bayes',\n",
    "                      cmap=None, normalize=False)"
   ]
  },
  {
   "cell_type": "code",
   "execution_count": 123,
   "metadata": {},
   "outputs": [
    {
     "name": "stdout",
     "output_type": "stream",
     "text": [
      "MULTINOMIAL NAIVE BAYES\n",
      "\n",
      "Overall metrics\n",
      "accuracy = 0.982, precision = 0.984, recall = 0.982, f1 = 0.983\n",
      "\n",
      "In class metrics\n"
     ]
    },
    {
     "data": {
      "text/html": [
       "<div>\n",
       "<style scoped>\n",
       "    .dataframe tbody tr th:only-of-type {\n",
       "        vertical-align: middle;\n",
       "    }\n",
       "\n",
       "    .dataframe tbody tr th {\n",
       "        vertical-align: top;\n",
       "    }\n",
       "\n",
       "    .dataframe thead th {\n",
       "        text-align: right;\n",
       "    }\n",
       "</style>\n",
       "<table border=\"1\" class=\"dataframe\">\n",
       "  <thead>\n",
       "    <tr style=\"text-align: right;\">\n",
       "      <th></th>\n",
       "      <th>precision</th>\n",
       "      <th>recall</th>\n",
       "      <th>f1 score</th>\n",
       "      <th>jaccard</th>\n",
       "    </tr>\n",
       "  </thead>\n",
       "  <tbody>\n",
       "    <tr>\n",
       "      <th>tech</th>\n",
       "      <td>0.8556</td>\n",
       "      <td>0.9992</td>\n",
       "      <td>0.9218</td>\n",
       "      <td>0.8550</td>\n",
       "    </tr>\n",
       "    <tr>\n",
       "      <th>nurse</th>\n",
       "      <td>0.9932</td>\n",
       "      <td>0.9999</td>\n",
       "      <td>0.9965</td>\n",
       "      <td>0.9931</td>\n",
       "    </tr>\n",
       "    <tr>\n",
       "      <th>service</th>\n",
       "      <td>0.9999</td>\n",
       "      <td>0.9936</td>\n",
       "      <td>0.9967</td>\n",
       "      <td>0.9935</td>\n",
       "    </tr>\n",
       "    <tr>\n",
       "      <th>driver</th>\n",
       "      <td>0.9973</td>\n",
       "      <td>0.9604</td>\n",
       "      <td>0.9785</td>\n",
       "      <td>0.9579</td>\n",
       "    </tr>\n",
       "    <tr>\n",
       "      <th>ignore</th>\n",
       "      <td>0.9887</td>\n",
       "      <td>0.9610</td>\n",
       "      <td>0.9747</td>\n",
       "      <td>0.9506</td>\n",
       "    </tr>\n",
       "  </tbody>\n",
       "</table>\n",
       "</div>"
      ],
      "text/plain": [
       "         precision  recall  f1 score  jaccard\n",
       "tech        0.8556  0.9992    0.9218   0.8550\n",
       "nurse       0.9932  0.9999    0.9965   0.9931\n",
       "service     0.9999  0.9936    0.9967   0.9935\n",
       "driver      0.9973  0.9604    0.9785   0.9579\n",
       "ignore      0.9887  0.9610    0.9747   0.9506"
      ]
     },
     "execution_count": 123,
     "metadata": {},
     "output_type": "execute_result"
    }
   ],
   "source": [
    "print('MULTINOMIAL NAIVE BAYES')\n",
    "\n",
    "print('\\nOverall metrics')\n",
    "print('accuracy = 0.982, precision = 0.984, recall = 0.982, f1 = 0.983')\n",
    "\n",
    "print('\\nIn class metrics')\n",
    "\n",
    "class_metrics_df(mnb_cm, cm_labels)"
   ]
  },
  {
   "cell_type": "code",
   "execution_count": 11,
   "metadata": {},
   "outputs": [
    {
     "data": {
      "text/plain": [
       "<module 'matplotlib.pyplot' from '/anaconda/lib/python3.6/site-packages/matplotlib/pyplot.py'>"
      ]
     },
     "execution_count": 11,
     "metadata": {},
     "output_type": "execute_result"
    },
    {
     "data": {
      "image/png": "[encoded data removed]",
      "text/plain": [
       "<matplotlib.figure.Figure at 0x1219dcf60>"
      ]
     },
     "metadata": {},
     "output_type": "display_data"
    }
   ],
   "source": [
    "plot_confusion_matrix(cnb_cm, target_names=cm_labels, title='Confusion matrix - Complement Naive Bayes',\n",
    "                      cmap=None, normalize=False)"
   ]
  },
  {
   "cell_type": "code",
   "execution_count": 124,
   "metadata": {},
   "outputs": [
    {
     "name": "stdout",
     "output_type": "stream",
     "text": [
      "COMPLEMENT NAIVE BAYES\n",
      "\n",
      "Overall metrics\n",
      "accuracy = 0.990, precision = 0.990, recall = 0.990, f1 = 0.990\n",
      "\n",
      "In class metrics\n"
     ]
    },
    {
     "data": {
      "text/html": [
       "<div>\n",
       "<style scoped>\n",
       "    .dataframe tbody tr th:only-of-type {\n",
       "        vertical-align: middle;\n",
       "    }\n",
       "\n",
       "    .dataframe tbody tr th {\n",
       "        vertical-align: top;\n",
       "    }\n",
       "\n",
       "    .dataframe thead th {\n",
       "        text-align: right;\n",
       "    }\n",
       "</style>\n",
       "<table border=\"1\" class=\"dataframe\">\n",
       "  <thead>\n",
       "    <tr style=\"text-align: right;\">\n",
       "      <th></th>\n",
       "      <th>precision</th>\n",
       "      <th>recall</th>\n",
       "      <th>f1 score</th>\n",
       "      <th>jaccard</th>\n",
       "    </tr>\n",
       "  </thead>\n",
       "  <tbody>\n",
       "    <tr>\n",
       "      <th>tech</th>\n",
       "      <td>0.9642</td>\n",
       "      <td>0.9989</td>\n",
       "      <td>0.9812</td>\n",
       "      <td>0.9631</td>\n",
       "    </tr>\n",
       "    <tr>\n",
       "      <th>nurse</th>\n",
       "      <td>0.9882</td>\n",
       "      <td>0.9999</td>\n",
       "      <td>0.9940</td>\n",
       "      <td>0.9882</td>\n",
       "    </tr>\n",
       "    <tr>\n",
       "      <th>service</th>\n",
       "      <td>0.9968</td>\n",
       "      <td>0.9973</td>\n",
       "      <td>0.9970</td>\n",
       "      <td>0.9941</td>\n",
       "    </tr>\n",
       "    <tr>\n",
       "      <th>driver</th>\n",
       "      <td>0.9989</td>\n",
       "      <td>0.9415</td>\n",
       "      <td>0.9694</td>\n",
       "      <td>0.9405</td>\n",
       "    </tr>\n",
       "    <tr>\n",
       "      <th>ignore</th>\n",
       "      <td>0.9896</td>\n",
       "      <td>0.9922</td>\n",
       "      <td>0.9909</td>\n",
       "      <td>0.9820</td>\n",
       "    </tr>\n",
       "  </tbody>\n",
       "</table>\n",
       "</div>"
      ],
      "text/plain": [
       "         precision  recall  f1 score  jaccard\n",
       "tech        0.9642  0.9989    0.9812   0.9631\n",
       "nurse       0.9882  0.9999    0.9940   0.9882\n",
       "service     0.9968  0.9973    0.9970   0.9941\n",
       "driver      0.9989  0.9415    0.9694   0.9405\n",
       "ignore      0.9896  0.9922    0.9909   0.9820"
      ]
     },
     "execution_count": 124,
     "metadata": {},
     "output_type": "execute_result"
    }
   ],
   "source": [
    "print('COMPLEMENT NAIVE BAYES')\n",
    "\n",
    "print('\\nOverall metrics')\n",
    "print('accuracy = 0.990, precision = 0.990, recall = 0.990, f1 = 0.990')\n",
    "\n",
    "print('\\nIn class metrics')\n",
    "class_metrics_df(cnb_cm, cm_labels)"
   ]
  },
  {
   "cell_type": "markdown",
   "metadata": {},
   "source": [
    "## Update\n",
    "\n",
    "Logistic regression performs best across all metrics. Both weighted, and for individual classes. Precision, Recall, F1 score and Jaccard Index\n",
    "\n",
    "## Future work\n",
    "\n",
    "+ Imbalanced metrics - F1 Score vs G-measure vs Jaccard index\n",
    "+ add database connections to store data\n",
    "+ train full naive bayes model for production\n",
    "+ explore complement naive bayes\n",
    "+ interface/webapp to confirm labels to add/correct data & retrain model\n",
    "+ continue to explore more complex models\n",
    "+ look into unsupervized methods & clustering\n",
    "+ incorporate company name\n",
    "+ add training examples for other types of roles \n",
    "+ software roles, consulting, accounting, etc."
   ]
  }
 ],
 "metadata": {
  "kernelspec": {
   "display_name": "Python 3",
   "language": "python",
   "name": "python3"
  },
  "language_info": {
   "codemirror_mode": {
    "name": "ipython",
    "version": 3
   },
   "file_extension": ".py",
   "mimetype": "text/x-python",
   "name": "python",
   "nbconvert_exporter": "python",
   "pygments_lexer": "ipython3",
   "version": "3.6.7"
  }
 },
 "nbformat": 4,
 "nbformat_minor": 2
}
