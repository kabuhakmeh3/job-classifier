{
 "cells": [
  {
   "cell_type": "code",
   "execution_count": 1,
   "metadata": {
    "collapsed": true
   },
   "outputs": [],
   "source": [
    "import os\n",
    "import numpy as np\n",
    "import pandas as pd"
   ]
  },
  {
   "cell_type": "code",
   "execution_count": 2,
   "metadata": {},
   "outputs": [
    {
     "data": {
      "text/plain": [
       "Index(['location', 'title', 'city', 'state', 'zip', 'country', 'job_type',\n",
       "       'posted_at', 'job_reference', 'company', 'mobile_friendly_apply',\n",
       "       'category', 'html_jobs', 'url', 'body', 'cpc'],\n",
       "      dtype='object')"
      ]
     },
     "execution_count": 2,
     "metadata": {},
     "output_type": "execute_result"
    }
   ],
   "source": [
    "df = pd.read_csv('../data/eda_sample_data_file.csv')\n",
    "df.columns"
   ]
  },
  {
   "cell_type": "code",
   "execution_count": 6,
   "metadata": {},
   "outputs": [
    {
     "data": {
      "text/html": [
       "<div>\n",
       "<style scoped>\n",
       "    .dataframe tbody tr th:only-of-type {\n",
       "        vertical-align: middle;\n",
       "    }\n",
       "\n",
       "    .dataframe tbody tr th {\n",
       "        vertical-align: top;\n",
       "    }\n",
       "\n",
       "    .dataframe thead th {\n",
       "        text-align: right;\n",
       "    }\n",
       "</style>\n",
       "<table border=\"1\" class=\"dataframe\">\n",
       "  <thead>\n",
       "    <tr style=\"text-align: right;\">\n",
       "      <th></th>\n",
       "      <th>title</th>\n",
       "      <th>city</th>\n",
       "      <th>state</th>\n",
       "      <th>zip</th>\n",
       "      <th>country</th>\n",
       "      <th>company</th>\n",
       "      <th>category</th>\n",
       "      <th>body</th>\n",
       "    </tr>\n",
       "  </thead>\n",
       "  <tbody>\n",
       "    <tr>\n",
       "      <th>0</th>\n",
       "      <td>Retail Store Manager - Alabaster AL</td>\n",
       "      <td>Alabaster</td>\n",
       "      <td>AL</td>\n",
       "      <td>35007</td>\n",
       "      <td>United States</td>\n",
       "      <td>CVS Health</td>\n",
       "      <td>Retail</td>\n",
       "      <td>Job Description&lt;br /&gt; &lt;br /&gt; General Summary:&lt;...</td>\n",
       "    </tr>\n",
       "    <tr>\n",
       "      <th>1</th>\n",
       "      <td>Financial Relationship Consultant - Pell City</td>\n",
       "      <td>Pell City</td>\n",
       "      <td>AL</td>\n",
       "      <td>35125</td>\n",
       "      <td>United States</td>\n",
       "      <td>Regions Financial Corporation</td>\n",
       "      <td>Accounting</td>\n",
       "      <td>Thank you for your interest in a career at Reg...</td>\n",
       "    </tr>\n",
       "    <tr>\n",
       "      <th>2</th>\n",
       "      <td>Prod Cook 3 PM Bob's Steak &amp; Chop</td>\n",
       "      <td>Fort Worth</td>\n",
       "      <td>TX</td>\n",
       "      <td>76102</td>\n",
       "      <td>United States</td>\n",
       "      <td>Omni Hotels</td>\n",
       "      <td>Restaurant</td>\n",
       "      <td>Overview&lt;br /&gt; &lt;br /&gt; Job Description&lt;br /&gt; &lt;b...</td>\n",
       "    </tr>\n",
       "    <tr>\n",
       "      <th>3</th>\n",
       "      <td>Quant Developer</td>\n",
       "      <td>Boston</td>\n",
       "      <td>MA</td>\n",
       "      <td>02298</td>\n",
       "      <td>United States</td>\n",
       "      <td>Ceres Group</td>\n",
       "      <td>Biotechnology/Pharmaceutical</td>\n",
       "      <td>We are looking for an Analyst to work in in co...</td>\n",
       "    </tr>\n",
       "    <tr>\n",
       "      <th>4</th>\n",
       "      <td>Human Resource Manager</td>\n",
       "      <td>Dulles</td>\n",
       "      <td>VA</td>\n",
       "      <td>20102</td>\n",
       "      <td>United States</td>\n",
       "      <td>Alpha Corporation</td>\n",
       "      <td>HR</td>\n",
       "      <td>Alpha Corporation established in 1979 is a ful...</td>\n",
       "    </tr>\n",
       "  </tbody>\n",
       "</table>\n",
       "</div>"
      ],
      "text/plain": [
       "                                           title        city state    zip  \\\n",
       "0            Retail Store Manager - Alabaster AL   Alabaster    AL  35007   \n",
       "1  Financial Relationship Consultant - Pell City   Pell City    AL  35125   \n",
       "2              Prod Cook 3 PM Bob's Steak & Chop  Fort Worth    TX  76102   \n",
       "3                                Quant Developer      Boston    MA  02298   \n",
       "4                         Human Resource Manager      Dulles    VA  20102   \n",
       "\n",
       "         country                        company                      category  \\\n",
       "0  United States                     CVS Health                        Retail   \n",
       "1  United States  Regions Financial Corporation                    Accounting   \n",
       "2  United States                    Omni Hotels                    Restaurant   \n",
       "3  United States                    Ceres Group  Biotechnology/Pharmaceutical   \n",
       "4  United States              Alpha Corporation                            HR   \n",
       "\n",
       "                                                body  \n",
       "0  Job Description<br /> <br /> General Summary:<...  \n",
       "1  Thank you for your interest in a career at Reg...  \n",
       "2  Overview<br /> <br /> Job Description<br /> <b...  \n",
       "3  We are looking for an Analyst to work in in co...  \n",
       "4  Alpha Corporation established in 1979 is a ful...  "
      ]
     },
     "execution_count": 6,
     "metadata": {},
     "output_type": "execute_result"
    }
   ],
   "source": [
    "cols_to_show = ['title', 'city', 'state', 'zip', 'country', 'company', 'category', 'body']\n",
    "df = df[cols_to_show]\n",
    "df.head()"
   ]
  },
  {
   "cell_type": "code",
   "execution_count": 5,
   "metadata": {},
   "outputs": [
    {
     "data": {
      "text/plain": [
       "No    1000\n",
       "Name: mobile_friendly_apply, dtype: int64"
      ]
     },
     "execution_count": 5,
     "metadata": {},
     "output_type": "execute_result"
    }
   ],
   "source": [
    "df.mobile_friendly_apply.value_counts()"
   ]
  },
  {
   "cell_type": "code",
   "execution_count": null,
   "metadata": {
    "collapsed": true
   },
   "outputs": [],
   "source": []
  }
 ],
 "metadata": {
  "kernelspec": {
   "display_name": "Python 3",
   "language": "python",
   "name": "python3"
  },
  "language_info": {
   "codemirror_mode": {
    "name": "ipython",
    "version": 3
   },
   "file_extension": ".py",
   "mimetype": "text/x-python",
   "name": "python",
   "nbconvert_exporter": "python",
   "pygments_lexer": "ipython3",
   "version": "3.6.7"
  }
 },
 "nbformat": 4,
 "nbformat_minor": 2
}
